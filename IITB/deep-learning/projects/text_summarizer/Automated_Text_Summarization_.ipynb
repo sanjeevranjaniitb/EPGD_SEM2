{
  "cells": [
    {
      "cell_type": "code",
      "execution_count": 1,
      "id": "cc087810",
      "metadata": {
        "id": "cc087810"
      },
      "outputs": [],
      "source": [
        "text = \"\"\"In a world often dominated by negativity, it's important to remember the power of kindness and compassion. Small acts of kindness have the ability to brighten someone's day, uplift spirits, and create a ripple effect of positivity that can spread far and wide. Whether it's a smile to a stranger, a helping hand to a friend in need, or a thoughtful gesture to a colleague, every act of kindness has the potential to make a difference in someone's life.Beyond individual actions, there is also immense power in collective efforts to create positive change. When communities come together to support one another, incredible things can happen. From grassroots initiatives to global movements, people are uniting to tackle pressing social and environmental issues, driving meaningful progress and inspiring hope for a better future.It's also important to recognize the strength that lies within each and every one of us. We all have the ability to make a positive impact, no matter how small our actions may seem. By tapping into our innate compassion and empathy, we can cultivate a culture of kindness and empathy that enriches our lives and those around us.So let's embrace the power of kindness, and strive to make the world a better place one small act at a time. Together, we can create a brighter, more compassionate future for all.\"\"\""
      ]
    },
    {
      "cell_type": "code",
      "execution_count": 2,
      "id": "294bd1c0",
      "metadata": {
        "colab": {
          "base_uri": "https://localhost:8080/"
        },
        "id": "294bd1c0",
        "outputId": "e80b3161-0c4c-43dc-f953-87a4681cce2c"
      },
      "outputs": [
        {
          "data": {
            "text/plain": [
              "1335"
            ]
          },
          "execution_count": 2,
          "metadata": {},
          "output_type": "execute_result"
        }
      ],
      "source": [
        "len(text)"
      ]
    },
    {
      "cell_type": "code",
      "execution_count": 3,
      "id": "c22d7351",
      "metadata": {
        "id": "c22d7351"
      },
      "outputs": [],
      "source": [
        "import spacy\n",
        "from spacy.lang.en.stop_words import STOP_WORDS\n",
        "from string import punctuation"
      ]
    },
    {
      "cell_type": "code",
      "execution_count": 5,
      "id": "76ccd6d2",
      "metadata": {
        "id": "76ccd6d2"
      },
      "outputs": [],
      "source": [
        "nlp = spacy.load('en_core_web_sm')"
      ]
    },
    {
      "cell_type": "code",
      "execution_count": 6,
      "id": "6c61dea4",
      "metadata": {
        "id": "6c61dea4"
      },
      "outputs": [],
      "source": [
        "doc = nlp(text)"
      ]
    },
    {
      "cell_type": "code",
      "execution_count": 7,
      "id": "043b45c1",
      "metadata": {
        "id": "043b45c1"
      },
      "outputs": [],
      "source": [
        "tokens = [token.text.lower() for token in doc\n",
        "          if not token.is_stop and\n",
        "          not token.is_punct and\n",
        "          token.text !='\\n']"
      ]
    },
    {
      "cell_type": "code",
      "execution_count": 8,
      "id": "6a4a914f",
      "metadata": {
        "colab": {
          "base_uri": "https://localhost:8080/"
        },
        "id": "6a4a914f",
        "outputId": "86c3e777-2d7c-46c9-f4d8-501ebda7d1cd"
      },
      "outputs": [
        {
          "data": {
            "text/plain": [
              "['world',\n",
              " 'dominated',\n",
              " 'negativity',\n",
              " 'important',\n",
              " 'remember',\n",
              " 'power',\n",
              " 'kindness',\n",
              " 'compassion',\n",
              " 'small',\n",
              " 'acts',\n",
              " 'kindness',\n",
              " 'ability',\n",
              " 'brighten',\n",
              " 'day',\n",
              " 'uplift',\n",
              " 'spirits',\n",
              " 'create',\n",
              " 'ripple',\n",
              " 'effect',\n",
              " 'positivity',\n",
              " 'spread',\n",
              " 'far',\n",
              " 'wide',\n",
              " 'smile',\n",
              " 'stranger',\n",
              " 'helping',\n",
              " 'hand',\n",
              " 'friend',\n",
              " 'need',\n",
              " 'thoughtful',\n",
              " 'gesture',\n",
              " 'colleague',\n",
              " 'act',\n",
              " 'kindness',\n",
              " 'potential',\n",
              " 'difference',\n",
              " 'life',\n",
              " 'individual',\n",
              " 'actions',\n",
              " 'immense',\n",
              " 'power',\n",
              " 'collective',\n",
              " 'efforts',\n",
              " 'create',\n",
              " 'positive',\n",
              " 'change',\n",
              " 'communities',\n",
              " 'come',\n",
              " 'support',\n",
              " 'incredible',\n",
              " 'things',\n",
              " 'happen',\n",
              " 'grassroots',\n",
              " 'initiatives',\n",
              " 'global',\n",
              " 'movements',\n",
              " 'people',\n",
              " 'uniting',\n",
              " 'tackle',\n",
              " 'pressing',\n",
              " 'social',\n",
              " 'environmental',\n",
              " 'issues',\n",
              " 'driving',\n",
              " 'meaningful',\n",
              " 'progress',\n",
              " 'inspiring',\n",
              " 'hope',\n",
              " 'better',\n",
              " 'future',\n",
              " 'important',\n",
              " 'recognize',\n",
              " 'strength',\n",
              " 'lies',\n",
              " 'ability',\n",
              " 'positive',\n",
              " 'impact',\n",
              " 'matter',\n",
              " 'small',\n",
              " 'actions',\n",
              " 'tapping',\n",
              " 'innate',\n",
              " 'compassion',\n",
              " 'empathy',\n",
              " 'cultivate',\n",
              " 'culture',\n",
              " 'kindness',\n",
              " 'empathy',\n",
              " 'enriches',\n",
              " 'lives',\n",
              " 'let',\n",
              " 'embrace',\n",
              " 'power',\n",
              " 'kindness',\n",
              " 'strive',\n",
              " 'world',\n",
              " 'better',\n",
              " 'place',\n",
              " 'small',\n",
              " 'act',\n",
              " 'time',\n",
              " 'create',\n",
              " 'brighter',\n",
              " 'compassionate',\n",
              " 'future']"
            ]
          },
          "execution_count": 8,
          "metadata": {},
          "output_type": "execute_result"
        }
      ],
      "source": [
        "tokens"
      ]
    },
    {
      "cell_type": "code",
      "execution_count": 9,
      "id": "51e27091",
      "metadata": {
        "id": "51e27091"
      },
      "outputs": [],
      "source": [
        "tokens1=[]\n",
        "stopwords = list(STOP_WORDS)\n",
        "allowed_pos = ['ADJ','PROPN','VERB','NOUN']\n",
        "for token in doc:\n",
        "    if token.text in stopwords or token.text in punctuation:\n",
        "        continue\n",
        "    if token.pos_ in allowed_pos:\n",
        "        tokens1.append(token.text)\n"
      ]
    },
    {
      "cell_type": "code",
      "execution_count": 10,
      "id": "6505766f",
      "metadata": {
        "colab": {
          "base_uri": "https://localhost:8080/"
        },
        "id": "6505766f",
        "outputId": "4ac38ee2-1d97-4908-9601-9b146b5a4c83"
      },
      "outputs": [
        {
          "data": {
            "text/plain": [
              "['world',\n",
              " 'dominated',\n",
              " 'negativity',\n",
              " 'important',\n",
              " 'remember',\n",
              " 'power',\n",
              " 'kindness',\n",
              " 'compassion',\n",
              " 'Small',\n",
              " 'acts',\n",
              " 'kindness',\n",
              " 'ability',\n",
              " 'brighten',\n",
              " 'day',\n",
              " 'uplift',\n",
              " 'spirits',\n",
              " 'create',\n",
              " 'ripple',\n",
              " 'effect',\n",
              " 'positivity',\n",
              " 'spread',\n",
              " 'wide',\n",
              " 'smile',\n",
              " 'stranger',\n",
              " 'helping',\n",
              " 'hand',\n",
              " 'friend',\n",
              " 'need',\n",
              " 'thoughtful',\n",
              " 'gesture',\n",
              " 'colleague',\n",
              " 'act',\n",
              " 'kindness',\n",
              " 'potential',\n",
              " 'difference',\n",
              " 'life',\n",
              " 'individual',\n",
              " 'actions',\n",
              " 'immense',\n",
              " 'power',\n",
              " 'collective',\n",
              " 'efforts',\n",
              " 'create',\n",
              " 'positive',\n",
              " 'change',\n",
              " 'communities',\n",
              " 'come',\n",
              " 'support',\n",
              " 'incredible',\n",
              " 'things',\n",
              " 'happen',\n",
              " 'grassroots',\n",
              " 'initiatives',\n",
              " 'global',\n",
              " 'movements',\n",
              " 'people',\n",
              " 'uniting',\n",
              " 'tackle',\n",
              " 'pressing',\n",
              " 'social',\n",
              " 'environmental',\n",
              " 'issues',\n",
              " 'driving',\n",
              " 'meaningful',\n",
              " 'progress',\n",
              " 'inspiring',\n",
              " 'hope',\n",
              " 'better',\n",
              " 'future',\n",
              " 'important',\n",
              " 'recognize',\n",
              " 'strength',\n",
              " 'lies',\n",
              " 'ability',\n",
              " 'positive',\n",
              " 'impact',\n",
              " 'small',\n",
              " 'actions',\n",
              " 'tapping',\n",
              " 'innate',\n",
              " 'compassion',\n",
              " 'empathy',\n",
              " 'cultivate',\n",
              " 'culture',\n",
              " 'kindness',\n",
              " 'empathy',\n",
              " 'enriches',\n",
              " 'lives',\n",
              " 'let',\n",
              " 'embrace',\n",
              " 'power',\n",
              " 'kindness',\n",
              " 'strive',\n",
              " 'world',\n",
              " 'better',\n",
              " 'place',\n",
              " 'small',\n",
              " 'act',\n",
              " 'time',\n",
              " 'create',\n",
              " 'brighter',\n",
              " 'compassionate',\n",
              " 'future']"
            ]
          },
          "execution_count": 10,
          "metadata": {},
          "output_type": "execute_result"
        }
      ],
      "source": [
        "tokens1"
      ]
    },
    {
      "cell_type": "code",
      "execution_count": 11,
      "id": "ea5507a3",
      "metadata": {
        "id": "ea5507a3"
      },
      "outputs": [],
      "source": [
        "from collections import Counter"
      ]
    },
    {
      "cell_type": "code",
      "execution_count": 12,
      "id": "48ea3d1d",
      "metadata": {
        "id": "48ea3d1d"
      },
      "outputs": [],
      "source": [
        "word_freq = Counter(tokens)"
      ]
    },
    {
      "cell_type": "code",
      "execution_count": 13,
      "id": "3e5bdce2",
      "metadata": {
        "colab": {
          "base_uri": "https://localhost:8080/"
        },
        "id": "3e5bdce2",
        "outputId": "d80210db-6a84-493a-d8b5-b7ac8c048a11"
      },
      "outputs": [
        {
          "data": {
            "text/plain": [
              "Counter({'kindness': 5,\n",
              "         'power': 3,\n",
              "         'small': 3,\n",
              "         'create': 3,\n",
              "         'world': 2,\n",
              "         'important': 2,\n",
              "         'compassion': 2,\n",
              "         'ability': 2,\n",
              "         'act': 2,\n",
              "         'actions': 2,\n",
              "         'positive': 2,\n",
              "         'better': 2,\n",
              "         'future': 2,\n",
              "         'empathy': 2,\n",
              "         'dominated': 1,\n",
              "         'negativity': 1,\n",
              "         'remember': 1,\n",
              "         'acts': 1,\n",
              "         'brighten': 1,\n",
              "         'day': 1,\n",
              "         'uplift': 1,\n",
              "         'spirits': 1,\n",
              "         'ripple': 1,\n",
              "         'effect': 1,\n",
              "         'positivity': 1,\n",
              "         'spread': 1,\n",
              "         'far': 1,\n",
              "         'wide': 1,\n",
              "         'smile': 1,\n",
              "         'stranger': 1,\n",
              "         'helping': 1,\n",
              "         'hand': 1,\n",
              "         'friend': 1,\n",
              "         'need': 1,\n",
              "         'thoughtful': 1,\n",
              "         'gesture': 1,\n",
              "         'colleague': 1,\n",
              "         'potential': 1,\n",
              "         'difference': 1,\n",
              "         'life': 1,\n",
              "         'individual': 1,\n",
              "         'immense': 1,\n",
              "         'collective': 1,\n",
              "         'efforts': 1,\n",
              "         'change': 1,\n",
              "         'communities': 1,\n",
              "         'come': 1,\n",
              "         'support': 1,\n",
              "         'incredible': 1,\n",
              "         'things': 1,\n",
              "         'happen': 1,\n",
              "         'grassroots': 1,\n",
              "         'initiatives': 1,\n",
              "         'global': 1,\n",
              "         'movements': 1,\n",
              "         'people': 1,\n",
              "         'uniting': 1,\n",
              "         'tackle': 1,\n",
              "         'pressing': 1,\n",
              "         'social': 1,\n",
              "         'environmental': 1,\n",
              "         'issues': 1,\n",
              "         'driving': 1,\n",
              "         'meaningful': 1,\n",
              "         'progress': 1,\n",
              "         'inspiring': 1,\n",
              "         'hope': 1,\n",
              "         'recognize': 1,\n",
              "         'strength': 1,\n",
              "         'lies': 1,\n",
              "         'impact': 1,\n",
              "         'matter': 1,\n",
              "         'tapping': 1,\n",
              "         'innate': 1,\n",
              "         'cultivate': 1,\n",
              "         'culture': 1,\n",
              "         'enriches': 1,\n",
              "         'lives': 1,\n",
              "         'let': 1,\n",
              "         'embrace': 1,\n",
              "         'strive': 1,\n",
              "         'place': 1,\n",
              "         'time': 1,\n",
              "         'brighter': 1,\n",
              "         'compassionate': 1})"
            ]
          },
          "execution_count": 13,
          "metadata": {},
          "output_type": "execute_result"
        }
      ],
      "source": [
        "word_freq"
      ]
    },
    {
      "cell_type": "code",
      "execution_count": 14,
      "id": "1bc3b699",
      "metadata": {
        "id": "1bc3b699"
      },
      "outputs": [],
      "source": [
        "max_freq = max(word_freq.values())"
      ]
    },
    {
      "cell_type": "code",
      "execution_count": 15,
      "id": "666931b9",
      "metadata": {
        "colab": {
          "base_uri": "https://localhost:8080/"
        },
        "id": "666931b9",
        "outputId": "7f087ba7-dc5e-43e4-f191-bab6225c718d"
      },
      "outputs": [
        {
          "data": {
            "text/plain": [
              "5"
            ]
          },
          "execution_count": 15,
          "metadata": {},
          "output_type": "execute_result"
        }
      ],
      "source": [
        "max_freq"
      ]
    },
    {
      "cell_type": "code",
      "execution_count": 16,
      "id": "da198abe",
      "metadata": {
        "id": "da198abe"
      },
      "outputs": [],
      "source": [
        "for word in word_freq.keys():\n",
        "    word_freq[word] = word_freq[word]/max_freq"
      ]
    },
    {
      "cell_type": "code",
      "execution_count": 17,
      "id": "b9984b3a",
      "metadata": {
        "colab": {
          "base_uri": "https://localhost:8080/"
        },
        "id": "b9984b3a",
        "outputId": "937f97f0-e304-487e-ae54-312d922f8e78"
      },
      "outputs": [
        {
          "data": {
            "text/plain": [
              "Counter({'kindness': 1.0,\n",
              "         'power': 0.6,\n",
              "         'small': 0.6,\n",
              "         'create': 0.6,\n",
              "         'world': 0.4,\n",
              "         'important': 0.4,\n",
              "         'compassion': 0.4,\n",
              "         'ability': 0.4,\n",
              "         'act': 0.4,\n",
              "         'actions': 0.4,\n",
              "         'positive': 0.4,\n",
              "         'better': 0.4,\n",
              "         'future': 0.4,\n",
              "         'empathy': 0.4,\n",
              "         'dominated': 0.2,\n",
              "         'negativity': 0.2,\n",
              "         'remember': 0.2,\n",
              "         'acts': 0.2,\n",
              "         'brighten': 0.2,\n",
              "         'day': 0.2,\n",
              "         'uplift': 0.2,\n",
              "         'spirits': 0.2,\n",
              "         'ripple': 0.2,\n",
              "         'effect': 0.2,\n",
              "         'positivity': 0.2,\n",
              "         'spread': 0.2,\n",
              "         'far': 0.2,\n",
              "         'wide': 0.2,\n",
              "         'smile': 0.2,\n",
              "         'stranger': 0.2,\n",
              "         'helping': 0.2,\n",
              "         'hand': 0.2,\n",
              "         'friend': 0.2,\n",
              "         'need': 0.2,\n",
              "         'thoughtful': 0.2,\n",
              "         'gesture': 0.2,\n",
              "         'colleague': 0.2,\n",
              "         'potential': 0.2,\n",
              "         'difference': 0.2,\n",
              "         'life': 0.2,\n",
              "         'individual': 0.2,\n",
              "         'immense': 0.2,\n",
              "         'collective': 0.2,\n",
              "         'efforts': 0.2,\n",
              "         'change': 0.2,\n",
              "         'communities': 0.2,\n",
              "         'come': 0.2,\n",
              "         'support': 0.2,\n",
              "         'incredible': 0.2,\n",
              "         'things': 0.2,\n",
              "         'happen': 0.2,\n",
              "         'grassroots': 0.2,\n",
              "         'initiatives': 0.2,\n",
              "         'global': 0.2,\n",
              "         'movements': 0.2,\n",
              "         'people': 0.2,\n",
              "         'uniting': 0.2,\n",
              "         'tackle': 0.2,\n",
              "         'pressing': 0.2,\n",
              "         'social': 0.2,\n",
              "         'environmental': 0.2,\n",
              "         'issues': 0.2,\n",
              "         'driving': 0.2,\n",
              "         'meaningful': 0.2,\n",
              "         'progress': 0.2,\n",
              "         'inspiring': 0.2,\n",
              "         'hope': 0.2,\n",
              "         'recognize': 0.2,\n",
              "         'strength': 0.2,\n",
              "         'lies': 0.2,\n",
              "         'impact': 0.2,\n",
              "         'matter': 0.2,\n",
              "         'tapping': 0.2,\n",
              "         'innate': 0.2,\n",
              "         'cultivate': 0.2,\n",
              "         'culture': 0.2,\n",
              "         'enriches': 0.2,\n",
              "         'lives': 0.2,\n",
              "         'let': 0.2,\n",
              "         'embrace': 0.2,\n",
              "         'strive': 0.2,\n",
              "         'place': 0.2,\n",
              "         'time': 0.2,\n",
              "         'brighter': 0.2,\n",
              "         'compassionate': 0.2})"
            ]
          },
          "execution_count": 17,
          "metadata": {},
          "output_type": "execute_result"
        }
      ],
      "source": [
        "word_freq"
      ]
    },
    {
      "cell_type": "code",
      "execution_count": 18,
      "id": "f01a6104",
      "metadata": {
        "id": "f01a6104"
      },
      "outputs": [],
      "source": [
        "sent_token = [sent.text for sent in doc.sents]"
      ]
    },
    {
      "cell_type": "code",
      "execution_count": 19,
      "id": "fb7b1fe7",
      "metadata": {
        "colab": {
          "base_uri": "https://localhost:8080/"
        },
        "id": "fb7b1fe7",
        "outputId": "daebbdde-2bdf-4c56-a45e-df33e5ec6bc9"
      },
      "outputs": [
        {
          "data": {
            "text/plain": [
              "[\"In a world often dominated by negativity, it's important to remember the power of kindness and compassion.\",\n",
              " \"Small acts of kindness have the ability to brighten someone's day, uplift spirits, and create a ripple effect of positivity that can spread far and wide.\",\n",
              " \"Whether it's a smile to a stranger, a helping hand to a friend in need, or a thoughtful gesture to a colleague, every act of kindness has the potential to make a difference in someone's life.\",\n",
              " 'Beyond individual actions, there is also immense power in collective efforts to create positive change.',\n",
              " 'When communities come together to support one another, incredible things can happen.',\n",
              " 'From grassroots initiatives to global movements, people are uniting to tackle pressing social and environmental issues, driving meaningful progress and inspiring hope for a better future.',\n",
              " \"It's also important to recognize the strength that lies within each and every one of us.\",\n",
              " 'We all have the ability to make a positive impact, no matter how small our actions may seem.',\n",
              " 'By tapping into our innate compassion and empathy, we can cultivate a culture of kindness and empathy that enriches our lives and those around us.',\n",
              " \"So let's embrace the power of kindness, and strive to make the world a better place one small act at a time.\",\n",
              " 'Together, we can create a brighter, more compassionate future for all.']"
            ]
          },
          "execution_count": 19,
          "metadata": {},
          "output_type": "execute_result"
        }
      ],
      "source": [
        "sent_token"
      ]
    },
    {
      "cell_type": "code",
      "execution_count": 20,
      "id": "96c0ef0a",
      "metadata": {
        "colab": {
          "base_uri": "https://localhost:8080/"
        },
        "id": "96c0ef0a",
        "outputId": "4e026855-066c-43a3-de03-9c710f8b2554"
      },
      "outputs": [
        {
          "name": "stdout",
          "output_type": "stream",
          "text": [
            "In\n",
            "a\n",
            "world\n",
            "often\n",
            "dominated\n",
            "by\n",
            "negativity,\n",
            "it's\n",
            "important\n",
            "to\n",
            "remember\n",
            "the\n",
            "power\n",
            "of\n",
            "kindness\n",
            "and\n",
            "compassion.\n",
            "Small\n",
            "acts\n",
            "of\n",
            "kindness\n",
            "have\n",
            "the\n",
            "ability\n",
            "to\n",
            "brighten\n",
            "someone's\n",
            "day,\n",
            "uplift\n",
            "spirits,\n",
            "and\n",
            "create\n",
            "a\n",
            "ripple\n",
            "effect\n",
            "of\n",
            "positivity\n",
            "that\n",
            "can\n",
            "spread\n",
            "far\n",
            "and\n",
            "wide.\n",
            "Whether\n",
            "it's\n",
            "a\n",
            "smile\n",
            "to\n",
            "a\n",
            "stranger,\n",
            "a\n",
            "helping\n",
            "hand\n",
            "to\n",
            "a\n",
            "friend\n",
            "in\n",
            "need,\n",
            "or\n",
            "a\n",
            "thoughtful\n",
            "gesture\n",
            "to\n",
            "a\n",
            "colleague,\n",
            "every\n",
            "act\n",
            "of\n",
            "kindness\n",
            "has\n",
            "the\n",
            "potential\n",
            "to\n",
            "make\n",
            "a\n",
            "difference\n",
            "in\n",
            "someone's\n",
            "life.\n",
            "Beyond\n",
            "individual\n",
            "actions,\n",
            "there\n",
            "is\n",
            "also\n",
            "immense\n",
            "power\n",
            "in\n",
            "collective\n",
            "efforts\n",
            "to\n",
            "create\n",
            "positive\n",
            "change.\n",
            "When\n",
            "communities\n",
            "come\n",
            "together\n",
            "to\n",
            "support\n",
            "one\n",
            "another,\n",
            "incredible\n",
            "things\n",
            "can\n",
            "happen.\n",
            "From\n",
            "grassroots\n",
            "initiatives\n",
            "to\n",
            "global\n",
            "movements,\n",
            "people\n",
            "are\n",
            "uniting\n",
            "to\n",
            "tackle\n",
            "pressing\n",
            "social\n",
            "and\n",
            "environmental\n",
            "issues,\n",
            "driving\n",
            "meaningful\n",
            "progress\n",
            "and\n",
            "inspiring\n",
            "hope\n",
            "for\n",
            "a\n",
            "better\n",
            "future.\n",
            "It's\n",
            "also\n",
            "important\n",
            "to\n",
            "recognize\n",
            "the\n",
            "strength\n",
            "that\n",
            "lies\n",
            "within\n",
            "each\n",
            "and\n",
            "every\n",
            "one\n",
            "of\n",
            "us.\n",
            "We\n",
            "all\n",
            "have\n",
            "the\n",
            "ability\n",
            "to\n",
            "make\n",
            "a\n",
            "positive\n",
            "impact,\n",
            "no\n",
            "matter\n",
            "how\n",
            "small\n",
            "our\n",
            "actions\n",
            "may\n",
            "seem.\n",
            "By\n",
            "tapping\n",
            "into\n",
            "our\n",
            "innate\n",
            "compassion\n",
            "and\n",
            "empathy,\n",
            "we\n",
            "can\n",
            "cultivate\n",
            "a\n",
            "culture\n",
            "of\n",
            "kindness\n",
            "and\n",
            "empathy\n",
            "that\n",
            "enriches\n",
            "our\n",
            "lives\n",
            "and\n",
            "those\n",
            "around\n",
            "us.\n",
            "So\n",
            "let's\n",
            "embrace\n",
            "the\n",
            "power\n",
            "of\n",
            "kindness,\n",
            "and\n",
            "strive\n",
            "to\n",
            "make\n",
            "the\n",
            "world\n",
            "a\n",
            "better\n",
            "place\n",
            "one\n",
            "small\n",
            "act\n",
            "at\n",
            "a\n",
            "time.\n",
            "Together,\n",
            "we\n",
            "can\n",
            "create\n",
            "a\n",
            "brighter,\n",
            "more\n",
            "compassionate\n",
            "future\n",
            "for\n",
            "all.\n"
          ]
        }
      ],
      "source": [
        "sent_score = {}\n",
        "for sent in sent_token:\n",
        "    for word in sent.split():\n",
        "        if word.lower() in word_freq.keys():\n",
        "            if sent not in sent_score.keys():\n",
        "                sent_score[sent] = word_freq[word]\n",
        "            else:\n",
        "                sent_score[sent] +=word_freq[word]\n",
        "        print(word)"
      ]
    },
    {
      "cell_type": "code",
      "execution_count": 21,
      "id": "7d81aaad",
      "metadata": {
        "colab": {
          "base_uri": "https://localhost:8080/"
        },
        "id": "7d81aaad",
        "outputId": "c5757c16-c563-4ea5-c41d-4f735e2bc9b4"
      },
      "outputs": [
        {
          "data": {
            "text/plain": [
              "{\"In a world often dominated by negativity, it's important to remember the power of kindness and compassion.\": 2.8,\n",
              " \"Small acts of kindness have the ability to brighten someone's day, uplift spirits, and create a ripple effect of positivity that can spread far and wide.\": 3.600000000000001,\n",
              " \"Whether it's a smile to a stranger, a helping hand to a friend in need, or a thoughtful gesture to a colleague, every act of kindness has the potential to make a difference in someone's life.\": 3.0000000000000004,\n",
              " 'Beyond individual actions, there is also immense power in collective efforts to create positive change.': 2.4,\n",
              " 'When communities come together to support one another, incredible things can happen.': 1.0,\n",
              " 'From grassroots initiatives to global movements, people are uniting to tackle pressing social and environmental issues, driving meaningful progress and inspiring hope for a better future.': 3.2,\n",
              " \"It's also important to recognize the strength that lies within each and every one of us.\": 1.0,\n",
              " 'We all have the ability to make a positive impact, no matter how small our actions may seem.': 2.0,\n",
              " 'By tapping into our innate compassion and empathy, we can cultivate a culture of kindness and empathy that enriches our lives and those around us.': 3.0000000000000004,\n",
              " \"So let's embrace the power of kindness, and strive to make the world a better place one small act at a time.\": 2.9999999999999996,\n",
              " 'Together, we can create a brighter, more compassionate future for all.': 1.2000000000000002}"
            ]
          },
          "execution_count": 21,
          "metadata": {},
          "output_type": "execute_result"
        }
      ],
      "source": [
        "sent_score"
      ]
    },
    {
      "cell_type": "code",
      "execution_count": 22,
      "id": "25c87806",
      "metadata": {
        "id": "25c87806"
      },
      "outputs": [],
      "source": [
        "import pandas as pd"
      ]
    },
    {
      "cell_type": "code",
      "execution_count": 23,
      "id": "cd9be5c6",
      "metadata": {
        "colab": {
          "base_uri": "https://localhost:8080/",
          "height": 394
        },
        "id": "cd9be5c6",
        "outputId": "e413f656-5a04-4694-d8b7-dc08881fc1b5"
      },
      "outputs": [
        {
          "data": {
            "text/html": [
              "<div>\n",
              "<style scoped>\n",
              "    .dataframe tbody tr th:only-of-type {\n",
              "        vertical-align: middle;\n",
              "    }\n",
              "\n",
              "    .dataframe tbody tr th {\n",
              "        vertical-align: top;\n",
              "    }\n",
              "\n",
              "    .dataframe thead th {\n",
              "        text-align: right;\n",
              "    }\n",
              "</style>\n",
              "<table border=\"1\" class=\"dataframe\">\n",
              "  <thead>\n",
              "    <tr style=\"text-align: right;\">\n",
              "      <th></th>\n",
              "      <th>Sentence</th>\n",
              "      <th>Score</th>\n",
              "    </tr>\n",
              "  </thead>\n",
              "  <tbody>\n",
              "    <tr>\n",
              "      <th>0</th>\n",
              "      <td>In a world often dominated by negativity, it's...</td>\n",
              "      <td>2.8</td>\n",
              "    </tr>\n",
              "    <tr>\n",
              "      <th>1</th>\n",
              "      <td>Small acts of kindness have the ability to bri...</td>\n",
              "      <td>3.6</td>\n",
              "    </tr>\n",
              "    <tr>\n",
              "      <th>2</th>\n",
              "      <td>Whether it's a smile to a stranger, a helping ...</td>\n",
              "      <td>3.0</td>\n",
              "    </tr>\n",
              "    <tr>\n",
              "      <th>3</th>\n",
              "      <td>Beyond individual actions, there is also immen...</td>\n",
              "      <td>2.4</td>\n",
              "    </tr>\n",
              "    <tr>\n",
              "      <th>4</th>\n",
              "      <td>When communities come together to support one ...</td>\n",
              "      <td>1.0</td>\n",
              "    </tr>\n",
              "    <tr>\n",
              "      <th>5</th>\n",
              "      <td>From grassroots initiatives to global movement...</td>\n",
              "      <td>3.2</td>\n",
              "    </tr>\n",
              "    <tr>\n",
              "      <th>6</th>\n",
              "      <td>It's also important to recognize the strength ...</td>\n",
              "      <td>1.0</td>\n",
              "    </tr>\n",
              "    <tr>\n",
              "      <th>7</th>\n",
              "      <td>We all have the ability to make a positive imp...</td>\n",
              "      <td>2.0</td>\n",
              "    </tr>\n",
              "    <tr>\n",
              "      <th>8</th>\n",
              "      <td>By tapping into our innate compassion and empa...</td>\n",
              "      <td>3.0</td>\n",
              "    </tr>\n",
              "    <tr>\n",
              "      <th>9</th>\n",
              "      <td>So let's embrace the power of kindness, and st...</td>\n",
              "      <td>3.0</td>\n",
              "    </tr>\n",
              "    <tr>\n",
              "      <th>10</th>\n",
              "      <td>Together, we can create a brighter, more compa...</td>\n",
              "      <td>1.2</td>\n",
              "    </tr>\n",
              "  </tbody>\n",
              "</table>\n",
              "</div>"
            ],
            "text/plain": [
              "                                             Sentence  Score\n",
              "0   In a world often dominated by negativity, it's...    2.8\n",
              "1   Small acts of kindness have the ability to bri...    3.6\n",
              "2   Whether it's a smile to a stranger, a helping ...    3.0\n",
              "3   Beyond individual actions, there is also immen...    2.4\n",
              "4   When communities come together to support one ...    1.0\n",
              "5   From grassroots initiatives to global movement...    3.2\n",
              "6   It's also important to recognize the strength ...    1.0\n",
              "7   We all have the ability to make a positive imp...    2.0\n",
              "8   By tapping into our innate compassion and empa...    3.0\n",
              "9   So let's embrace the power of kindness, and st...    3.0\n",
              "10  Together, we can create a brighter, more compa...    1.2"
            ]
          },
          "execution_count": 23,
          "metadata": {},
          "output_type": "execute_result"
        }
      ],
      "source": [
        "pd.DataFrame(list(sent_score.items()),columns=['Sentence','Score'])"
      ]
    },
    {
      "cell_type": "code",
      "execution_count": 24,
      "id": "6a6b3c7d",
      "metadata": {
        "id": "6a6b3c7d"
      },
      "outputs": [],
      "source": [
        "from heapq import nlargest"
      ]
    },
    {
      "cell_type": "code",
      "execution_count": 25,
      "id": "ab13760d",
      "metadata": {
        "id": "ab13760d"
      },
      "outputs": [],
      "source": [
        "num_sentences =3\n",
        "n = nlargest(num_sentences,sent_score,key=sent_score.get)"
      ]
    },
    {
      "cell_type": "code",
      "execution_count": 26,
      "id": "b612b5ca",
      "metadata": {
        "colab": {
          "base_uri": "https://localhost:8080/",
          "height": 71
        },
        "id": "b612b5ca",
        "outputId": "b3683785-f537-44ea-dc86-8a6dfc4728ce"
      },
      "outputs": [
        {
          "data": {
            "text/plain": [
              "\"Small acts of kindness have the ability to brighten someone's day, uplift spirits, and create a ripple effect of positivity that can spread far and wide. From grassroots initiatives to global movements, people are uniting to tackle pressing social and environmental issues, driving meaningful progress and inspiring hope for a better future. Whether it's a smile to a stranger, a helping hand to a friend in need, or a thoughtful gesture to a colleague, every act of kindness has the potential to make a difference in someone's life.\""
            ]
          },
          "execution_count": 26,
          "metadata": {},
          "output_type": "execute_result"
        }
      ],
      "source": [
        "\" \".join(n)"
      ]
    },
    {
      "cell_type": "code",
      "execution_count": 28,
      "id": "cdfaec96",
      "metadata": {
        "colab": {
          "base_uri": "https://localhost:8080/",
          "height": 304,
          "referenced_widgets": [
            "e8adbe72aa6046e2ba97f6c35c7665d9",
            "484d19928ff044f19804a33828776f41",
            "700ce48b26774a4087fe63521761b46a",
            "414916fce4a345bd85346e99c39b668c",
            "e9073d395f414b02a0357fb52b4eefac",
            "585723cd247f47db8954c314808f5489",
            "c7adb5e0d4e949d9add35abed9095f00",
            "2a7cedc2105b475b983a21f1bb1f7a33",
            "87555bfb3d6e45eb8300c76300593b04",
            "81d3f6d0213046c89b7dfff71c6b2d63",
            "c4d057dbaec64823b5784705b04982bb"
          ]
        },
        "id": "cdfaec96",
        "outputId": "abe31b19-b4d6-44ea-e193-7bbb3f2af9c9"
      },
      "outputs": [],
      "source": [
        "import tkinter as tk\n",
        "from tkinter import scrolledtext\n",
        "from tkinter import messagebox\n",
        "from tkinter import END\n",
        "\n",
        "# Importing the summarization code\n",
        "import spacy\n",
        "from spacy.lang.en.stop_words import STOP_WORDS\n",
        "from string import punctuation\n",
        "from collections import Counter\n",
        "from heapq import nlargest\n",
        "\n",
        "def summarize_text():\n",
        "    # Get text from the text box\n",
        "    text = text_box.get(\"1.0\", \"end-1c\")\n",
        "    \n",
        "    # Loading spaCy model\n",
        "    nlp = spacy.load('en_core_web_sm')\n",
        "    \n",
        "    # Tokenization and removing stopwords\n",
        "    doc = nlp(text)\n",
        "    tokens = [token.text.lower() for token in doc \n",
        "              if not token.is_stop and not token.is_punct and token.text != '\\n']\n",
        "\n",
        "    # Calculating word frequency\n",
        "    word_freq = Counter(tokens)\n",
        "    if not word_freq:\n",
        "        messagebox.showerror(\"Error\", \"No words found in the text.\")\n",
        "        return\n",
        "    \n",
        "    max_freq = max(word_freq.values())\n",
        "    for word in word_freq.keys():\n",
        "        word_freq[word] = word_freq[word]/max_freq\n",
        "    \n",
        "    # Sentence tokenization\n",
        "    sent_token = [sent.text for sent in doc.sents]\n",
        "\n",
        "    sent_score = {}\n",
        "    for sent in sent_token:\n",
        "        for word in sent.split():\n",
        "            if word.lower() in word_freq.keys():\n",
        "                if sent not in sent_score.keys():\n",
        "                    sent_score[sent] = word_freq[word]\n",
        "                else:\n",
        "                    sent_score[sent] += word_freq[word]\n",
        "\n",
        "    # Select top-scoring sentences based on user input\n",
        "    num_sentences = int(num_sentences_entry.get())\n",
        "    summarized_sentences = nlargest(num_sentences, sent_score, key=sent_score.get)\n",
        "\n",
        "    # Display summarized text in the result box\n",
        "    result_box.delete(1.0, END)\n",
        "    result_box.insert(END, \" \".join(summarized_sentences))\n",
        "\n",
        "# GUI setup\n",
        "root = tk.Tk()\n",
        "root.title(\"Text Summarizer\")\n",
        "\n",
        "# Text box for input\n",
        "text_box = scrolledtext.ScrolledText(root, width=50, height=10, wrap=tk.WORD)\n",
        "text_box.pack(pady=10)\n",
        "\n",
        "# Entry field for the number of sentences\n",
        "num_sentences_label = tk.Label(root, text=\"Number of Sentences:\")\n",
        "num_sentences_label.pack()\n",
        "num_sentences_entry = tk.Entry(root, width=10)\n",
        "num_sentences_entry.insert(END, \"3\")  # Default value\n",
        "num_sentences_entry.pack()\n",
        "\n",
        "# Button to summarize\n",
        "summarize_button = tk.Button(root, text=\"Summarize\", command=summarize_text)\n",
        "summarize_button.pack(pady=5)\n",
        "\n",
        "# Result box for output\n",
        "result_box = scrolledtext.ScrolledText(root, width=50, height=5, wrap=tk.WORD)\n",
        "result_box.pack(pady=10)\n",
        "\n",
        "root.mainloop()"
      ]
    },
    {
      "cell_type": "code",
      "execution_count": 29,
      "id": "fd184e1e",
      "metadata": {
        "id": "fd184e1e"
      },
      "outputs": [
        {
          "name": "stderr",
          "output_type": "stream",
          "text": [
            "/opt/anaconda3/envs/anaconda-nlp/lib/python3.11/site-packages/tqdm/auto.py:21: TqdmWarning: IProgress not found. Please update jupyter and ipywidgets. See https://ipywidgets.readthedocs.io/en/stable/user_install.html\n",
            "  from .autonotebook import tqdm as notebook_tqdm\n",
            "2025-10-23 21:51:08.362641: I tensorflow/core/platform/cpu_feature_guard.cc:210] This TensorFlow binary is optimized to use available CPU instructions in performance-critical operations.\n",
            "To enable the following instructions: SSE4.1 SSE4.2 AVX AVX2 FMA, in other operations, rebuild TensorFlow with the appropriate compiler flags.\n",
            "/opt/anaconda3/envs/anaconda-nlp/lib/python3.11/site-packages/transformers/utils/generic.py:260: FutureWarning: `torch.utils._pytree._register_pytree_node` is deprecated. Please use `torch.utils._pytree.register_pytree_node` instead.\n",
            "  torch.utils._pytree._register_pytree_node(\n"
          ]
        }
      ],
      "source": [
        "from transformers import pipeline"
      ]
    },
    {
      "cell_type": "code",
      "execution_count": 30,
      "id": "0cb35c13",
      "metadata": {
        "colab": {
          "base_uri": "https://localhost:8080/"
        },
        "id": "0cb35c13",
        "outputId": "940885c9-7de9-4736-8fd1-81ec774e29b2"
      },
      "outputs": [
        {
          "name": "stderr",
          "output_type": "stream",
          "text": [
            "config.json: 100%|██████████| 1.21k/1.21k [00:00<00:00, 1.06MB/s]\n",
            "model.safetensors: 100%|██████████| 892M/892M [02:22<00:00, 6.25MB/s] \n",
            "generation_config.json: 100%|██████████| 147/147 [00:00<00:00, 639kB/s]\n",
            "spiece.model: 100%|██████████| 792k/792k [00:00<00:00, 1.91MB/s]\n",
            "tokenizer.json: 100%|██████████| 1.39M/1.39M [00:00<00:00, 6.27MB/s]\n",
            "/opt/anaconda3/envs/anaconda-nlp/lib/python3.11/site-packages/transformers/models/t5/tokenization_t5_fast.py:155: FutureWarning: This tokenizer was incorrectly instantiated with a model max length of 512 which will be corrected in Transformers v5.\n",
            "For now, this behavior is kept to avoid breaking backwards compatibility when padding/encoding with `truncation is True`.\n",
            "- Be aware that you SHOULD NOT rely on t5-base automatically truncating your input to 512 when padding/encoding.\n",
            "- If you want to encode/pad to sequences longer than 512 you can either instantiate this tokenizer with `model_max_length` or pass `max_length` when encoding/padding.\n",
            "- To avoid this warning, please instantiate this tokenizer with `model_max_length` set to your preferred value.\n",
            "  warnings.warn(\n"
          ]
        }
      ],
      "source": [
        "summarizer=pipeline(\"summarization\",model='t5-base',tokenizer='t5-base',framework='pt')"
      ]
    },
    {
      "cell_type": "code",
      "execution_count": 31,
      "id": "a28a7c9b",
      "metadata": {
        "id": "a28a7c9b"
      },
      "outputs": [],
      "source": [
        "text = \"\"\"In a world often dominated by negativity, it's important to remember the power of kindness and compassion. Small acts of kindness have the ability to brighten someone's day, uplift spirits, and create a ripple effect of positivity that can spread far and wide. Whether it's a smile to a stranger, a helping hand to a friend in need, or a thoughtful gesture to a colleague, every act of kindness has the potential to make a difference in someone's life.Beyond individual actions, there is also immense power in collective efforts to create positive change. When communities come together to support one another, incredible things can happen. From grassroots initiatives to global movements, people are uniting to tackle pressing social and environmental issues, driving meaningful progress and inspiring hope for a better future.It's also important to recognize the strength that lies within each and every one of us. We all have the ability to make a positive impact, no matter how small our actions may seem. By tapping into our innate compassion and empathy, we can cultivate a culture of kindness and empathy that enriches our lives and those around us.So let's embrace the power of kindness, and strive to make the world a better place one small act at a time. Together, we can create a brighter, more compassionate future for all.\"\"\""
      ]
    },
    {
      "cell_type": "code",
      "execution_count": 32,
      "id": "d9cbb410",
      "metadata": {
        "colab": {
          "base_uri": "https://localhost:8080/"
        },
        "id": "d9cbb410",
        "outputId": "5664f2d1-cae4-4a73-b085-7824f661d2ab"
      },
      "outputs": [],
      "source": [
        "summary = summarizer(text,max_length=100,min_length=10,do_sample=False)"
      ]
    },
    {
      "cell_type": "code",
      "execution_count": 33,
      "id": "121e7e26",
      "metadata": {
        "colab": {
          "base_uri": "https://localhost:8080/"
        },
        "id": "121e7e26",
        "outputId": "e089bcf6-e81b-4236-9b34-c34d99daa9e3"
      },
      "outputs": [
        {
          "data": {
            "text/plain": [
              "[{'summary_text': \"small acts of kindness can brighten someone's day, uplift spirits, and create a ripple effect of positivity . when communities come together to support one another, incredible things can happen . we all have the ability to make a positive impact, no matter how small our actions may seem .\"}]"
            ]
          },
          "execution_count": 33,
          "metadata": {},
          "output_type": "execute_result"
        }
      ],
      "source": [
        "summary"
      ]
    },
    {
      "cell_type": "code",
      "execution_count": 34,
      "id": "0266e51f",
      "metadata": {
        "colab": {
          "base_uri": "https://localhost:8080/"
        },
        "id": "0266e51f",
        "outputId": "e95bbaa2-506c-4379-c355-db6a757c1e6c"
      },
      "outputs": [
        {
          "name": "stdout",
          "output_type": "stream",
          "text": [
            "small acts of kindness can brighten someone's day, uplift spirits, and create a ripple effect of positivity . when communities come together to support one another, incredible things can happen . we all have the ability to make a positive impact, no matter how small our actions may seem .\n"
          ]
        }
      ],
      "source": [
        "print(summary[0]['summary_text'])"
      ]
    },
    {
      "cell_type": "code",
      "execution_count": 35,
      "id": "70b214aa",
      "metadata": {
        "colab": {
          "base_uri": "https://localhost:8080/",
          "height": 292,
          "referenced_widgets": [
            "4e446c7bd8d94156a0011c7c932b0147",
            "83079d6268784ba88be4b85948b55344",
            "70626b106ddd44c9bdf1e46ef2b04b3a",
            "d672343bf0ab493cafa62f992ca89744",
            "d7a7335678c0409c830c3e8f98e0f3f6",
            "8e6a3817e55947d1947daa9b714d1f2f",
            "f82d16538fce471ebc5e1caedd07a5ef",
            "28332fb29a9c4c108a8cd2eb9b73ee12"
          ]
        },
        "id": "70b214aa",
        "outputId": "96335b7b-9a45-46de-9ce8-927c862a3029"
      },
      "outputs": [],
      "source": [
        "import tkinter as tk\n",
        "from transformers import pipeline\n",
        "\n",
        "def summarize_text():\n",
        "    # Get text from the input text box\n",
        "    text = text_entry.get(\"1.0\", \"end-1c\")\n",
        "\n",
        "    # Summarize the text\n",
        "    summary = summarizer(text, max_length=100, min_length=10, do_sample=False)\n",
        "\n",
        "    # Update the output text box with the summary\n",
        "    output_text.delete(\"1.0\", \"end\")\n",
        "    output_text.insert(\"1.0\", summary[0]['summary_text'])\n",
        "\n",
        "# Create a Tkinter window\n",
        "window = tk.Tk()\n",
        "window.title(\"Text Summarizer\")\n",
        "\n",
        "# Create input text box\n",
        "text_entry = tk.Text(window, height=10, width=60)\n",
        "text_entry.pack(pady=10)\n",
        "\n",
        "# Create a button to trigger text summarization\n",
        "summarize_button = tk.Button(window, text=\"Summarize\", command=summarize_text)\n",
        "summarize_button.pack()\n",
        "\n",
        "# Create output text box\n",
        "output_text = tk.Text(window, height=10, width=60)\n",
        "output_text.pack(pady=10)\n",
        "\n",
        "# Initialize the summarizer pipeline\n",
        "summarizer = pipeline(\"summarization\", model=\"t5-base\", tokenizer=\"t5-base\", framework=\"pt\")\n",
        "\n",
        "# Run the Tkinter event loop\n",
        "window.mainloop()"
      ]
    }
  ],
  "metadata": {
    "colab": {
      "provenance": []
    },
    "kernelspec": {
      "display_name": "anaconda-nlp",
      "language": "python",
      "name": "python3"
    },
    "language_info": {
      "codemirror_mode": {
        "name": "ipython",
        "version": 3
      },
      "file_extension": ".py",
      "mimetype": "text/x-python",
      "name": "python",
      "nbconvert_exporter": "python",
      "pygments_lexer": "ipython3",
      "version": "3.11.13"
    },
    "widgets": {
      "application/vnd.jupyter.widget-state+json": {
        "28332fb29a9c4c108a8cd2eb9b73ee12": {
          "model_module": "@jupyter-widgets/base",
          "model_module_version": "1.2.0",
          "model_name": "LayoutModel",
          "state": {
            "_model_module": "@jupyter-widgets/base",
            "_model_module_version": "1.2.0",
            "_model_name": "LayoutModel",
            "_view_count": null,
            "_view_module": "@jupyter-widgets/base",
            "_view_module_version": "1.2.0",
            "_view_name": "LayoutView",
            "align_content": null,
            "align_items": null,
            "align_self": null,
            "border": null,
            "bottom": null,
            "display": null,
            "flex": null,
            "flex_flow": null,
            "grid_area": null,
            "grid_auto_columns": null,
            "grid_auto_flow": null,
            "grid_auto_rows": null,
            "grid_column": null,
            "grid_gap": null,
            "grid_row": null,
            "grid_template_areas": null,
            "grid_template_columns": null,
            "grid_template_rows": null,
            "height": null,
            "justify_content": null,
            "justify_items": null,
            "left": null,
            "margin": null,
            "max_height": null,
            "max_width": null,
            "min_height": null,
            "min_width": null,
            "object_fit": null,
            "object_position": null,
            "order": null,
            "overflow": null,
            "overflow_x": null,
            "overflow_y": null,
            "padding": null,
            "right": null,
            "top": null,
            "visibility": null,
            "width": null
          }
        },
        "2a7cedc2105b475b983a21f1bb1f7a33": {
          "model_module": "@jupyter-widgets/base",
          "model_module_version": "1.2.0",
          "model_name": "LayoutModel",
          "state": {
            "_model_module": "@jupyter-widgets/base",
            "_model_module_version": "1.2.0",
            "_model_name": "LayoutModel",
            "_view_count": null,
            "_view_module": "@jupyter-widgets/base",
            "_view_module_version": "1.2.0",
            "_view_name": "LayoutView",
            "align_content": null,
            "align_items": null,
            "align_self": null,
            "border": null,
            "bottom": null,
            "display": null,
            "flex": null,
            "flex_flow": null,
            "grid_area": null,
            "grid_auto_columns": null,
            "grid_auto_flow": null,
            "grid_auto_rows": null,
            "grid_column": null,
            "grid_gap": null,
            "grid_row": null,
            "grid_template_areas": null,
            "grid_template_columns": null,
            "grid_template_rows": null,
            "height": null,
            "justify_content": null,
            "justify_items": null,
            "left": null,
            "margin": null,
            "max_height": null,
            "max_width": null,
            "min_height": null,
            "min_width": null,
            "object_fit": null,
            "object_position": null,
            "order": null,
            "overflow": null,
            "overflow_x": null,
            "overflow_y": null,
            "padding": null,
            "right": null,
            "top": null,
            "visibility": null,
            "width": null
          }
        },
        "414916fce4a345bd85346e99c39b668c": {
          "model_module": "@jupyter-widgets/controls",
          "model_module_version": "1.5.0",
          "model_name": "IntTextModel",
          "state": {
            "_dom_classes": [],
            "_model_module": "@jupyter-widgets/controls",
            "_model_module_version": "1.5.0",
            "_model_name": "IntTextModel",
            "_view_count": null,
            "_view_module": "@jupyter-widgets/controls",
            "_view_module_version": "1.5.0",
            "_view_name": "IntTextView",
            "continuous_update": false,
            "description": "Number of Sentences:",
            "description_tooltip": null,
            "disabled": false,
            "layout": "IPY_MODEL_e9073d395f414b02a0357fb52b4eefac",
            "step": 1,
            "style": "IPY_MODEL_585723cd247f47db8954c314808f5489",
            "value": 3
          }
        },
        "484d19928ff044f19804a33828776f41": {
          "model_module": "@jupyter-widgets/base",
          "model_module_version": "1.2.0",
          "model_name": "LayoutModel",
          "state": {
            "_model_module": "@jupyter-widgets/base",
            "_model_module_version": "1.2.0",
            "_model_name": "LayoutModel",
            "_view_count": null,
            "_view_module": "@jupyter-widgets/base",
            "_view_module_version": "1.2.0",
            "_view_name": "LayoutView",
            "align_content": null,
            "align_items": null,
            "align_self": null,
            "border": null,
            "bottom": null,
            "display": null,
            "flex": null,
            "flex_flow": null,
            "grid_area": null,
            "grid_auto_columns": null,
            "grid_auto_flow": null,
            "grid_auto_rows": null,
            "grid_column": null,
            "grid_gap": null,
            "grid_row": null,
            "grid_template_areas": null,
            "grid_template_columns": null,
            "grid_template_rows": null,
            "height": "150px",
            "justify_content": null,
            "justify_items": null,
            "left": null,
            "margin": null,
            "max_height": null,
            "max_width": null,
            "min_height": null,
            "min_width": null,
            "object_fit": null,
            "object_position": null,
            "order": null,
            "overflow": null,
            "overflow_x": null,
            "overflow_y": null,
            "padding": null,
            "right": null,
            "top": null,
            "visibility": null,
            "width": "80%"
          }
        },
        "4e446c7bd8d94156a0011c7c932b0147": {
          "model_module": "@jupyter-widgets/controls",
          "model_module_version": "1.5.0",
          "model_name": "TextareaModel",
          "state": {
            "_dom_classes": [],
            "_model_module": "@jupyter-widgets/controls",
            "_model_module_version": "1.5.0",
            "_model_name": "TextareaModel",
            "_view_count": null,
            "_view_module": "@jupyter-widgets/controls",
            "_view_module_version": "1.5.0",
            "_view_name": "TextareaView",
            "continuous_update": true,
            "description": "Text:",
            "description_tooltip": null,
            "disabled": false,
            "layout": "IPY_MODEL_83079d6268784ba88be4b85948b55344",
            "placeholder": "Enter text to summarize",
            "rows": null,
            "style": "IPY_MODEL_70626b106ddd44c9bdf1e46ef2b04b3a",
            "value": "In a world often dominated by negativity, it's important to remember the power of kindness and compassion. Small acts of kindness have the ability to brighten someone's day, uplift spirits, and create a ripple effect of positivity that can spread far and wide. Whether it's a smile to a stranger, a helping hand to a friend in need, or a thoughtful gesture to a colleague, every act of kindness has the potential to make a difference in someone's life.Beyond individual actions, there is also immense power in collective efforts to create positive change. When communities come together to support one another, incredible things can happen. From grassroots initiatives to global movements, people are uniting to tackle pressing social and environmental issues, driving meaningful progress and inspiring hope for a better future.It's also important to recognize the strength that lies within each and every one of us. We all have the ability to make a positive impact, no matter how small our actions may seem. By tapping into our innate compassion and empathy, we can cultivate a culture of kindness and empathy that enriches our lives and those around us.So let's embrace the power of kindness, and strive to make the world a better place one small act at a time. Together, we can create a brighter, more compassionate future for all."
          }
        },
        "585723cd247f47db8954c314808f5489": {
          "model_module": "@jupyter-widgets/controls",
          "model_module_version": "1.5.0",
          "model_name": "DescriptionStyleModel",
          "state": {
            "_model_module": "@jupyter-widgets/controls",
            "_model_module_version": "1.5.0",
            "_model_name": "DescriptionStyleModel",
            "_view_count": null,
            "_view_module": "@jupyter-widgets/base",
            "_view_module_version": "1.2.0",
            "_view_name": "StyleView",
            "description_width": ""
          }
        },
        "700ce48b26774a4087fe63521761b46a": {
          "model_module": "@jupyter-widgets/controls",
          "model_module_version": "1.5.0",
          "model_name": "DescriptionStyleModel",
          "state": {
            "_model_module": "@jupyter-widgets/controls",
            "_model_module_version": "1.5.0",
            "_model_name": "DescriptionStyleModel",
            "_view_count": null,
            "_view_module": "@jupyter-widgets/base",
            "_view_module_version": "1.2.0",
            "_view_name": "StyleView",
            "description_width": ""
          }
        },
        "70626b106ddd44c9bdf1e46ef2b04b3a": {
          "model_module": "@jupyter-widgets/controls",
          "model_module_version": "1.5.0",
          "model_name": "DescriptionStyleModel",
          "state": {
            "_model_module": "@jupyter-widgets/controls",
            "_model_module_version": "1.5.0",
            "_model_name": "DescriptionStyleModel",
            "_view_count": null,
            "_view_module": "@jupyter-widgets/base",
            "_view_module_version": "1.2.0",
            "_view_name": "StyleView",
            "description_width": ""
          }
        },
        "81d3f6d0213046c89b7dfff71c6b2d63": {
          "model_module": "@jupyter-widgets/output",
          "model_module_version": "1.0.0",
          "model_name": "OutputModel",
          "state": {
            "_dom_classes": [],
            "_model_module": "@jupyter-widgets/output",
            "_model_module_version": "1.0.0",
            "_model_name": "OutputModel",
            "_view_count": null,
            "_view_module": "@jupyter-widgets/output",
            "_view_module_version": "1.0.0",
            "_view_name": "OutputView",
            "layout": "IPY_MODEL_c4d057dbaec64823b5784705b04982bb",
            "msg_id": "",
            "outputs": [
              {
                "name": "stdout",
                "output_type": "stream",
                "text": [
                  "Summary:\n",
                  "Small acts of kindness have the ability to brighten someone's day, uplift spirits, and create a ripple effect of positivity that can spread far and wide. From grassroots initiatives to global movements, people are uniting to tackle pressing social and environmental issues, driving meaningful progress and inspiring hope for a better future. Whether it's a smile to a stranger, a helping hand to a friend in need, or a thoughtful gesture to a colleague, every act of kindness has the potential to make a difference in someone's life.\n"
                ]
              }
            ]
          }
        },
        "83079d6268784ba88be4b85948b55344": {
          "model_module": "@jupyter-widgets/base",
          "model_module_version": "1.2.0",
          "model_name": "LayoutModel",
          "state": {
            "_model_module": "@jupyter-widgets/base",
            "_model_module_version": "1.2.0",
            "_model_name": "LayoutModel",
            "_view_count": null,
            "_view_module": "@jupyter-widgets/base",
            "_view_module_version": "1.2.0",
            "_view_name": "LayoutView",
            "align_content": null,
            "align_items": null,
            "align_self": null,
            "border": null,
            "bottom": null,
            "display": null,
            "flex": null,
            "flex_flow": null,
            "grid_area": null,
            "grid_auto_columns": null,
            "grid_auto_flow": null,
            "grid_auto_rows": null,
            "grid_column": null,
            "grid_gap": null,
            "grid_row": null,
            "grid_template_areas": null,
            "grid_template_columns": null,
            "grid_template_rows": null,
            "height": "150px",
            "justify_content": null,
            "justify_items": null,
            "left": null,
            "margin": null,
            "max_height": null,
            "max_width": null,
            "min_height": null,
            "min_width": null,
            "object_fit": null,
            "object_position": null,
            "order": null,
            "overflow": null,
            "overflow_x": null,
            "overflow_y": null,
            "padding": null,
            "right": null,
            "top": null,
            "visibility": null,
            "width": "80%"
          }
        },
        "87555bfb3d6e45eb8300c76300593b04": {
          "model_module": "@jupyter-widgets/controls",
          "model_module_version": "1.5.0",
          "model_name": "ButtonStyleModel",
          "state": {
            "_model_module": "@jupyter-widgets/controls",
            "_model_module_version": "1.5.0",
            "_model_name": "ButtonStyleModel",
            "_view_count": null,
            "_view_module": "@jupyter-widgets/base",
            "_view_module_version": "1.2.0",
            "_view_name": "StyleView",
            "button_color": null,
            "font_weight": ""
          }
        },
        "8e6a3817e55947d1947daa9b714d1f2f": {
          "model_module": "@jupyter-widgets/controls",
          "model_module_version": "1.5.0",
          "model_name": "ButtonStyleModel",
          "state": {
            "_model_module": "@jupyter-widgets/controls",
            "_model_module_version": "1.5.0",
            "_model_name": "ButtonStyleModel",
            "_view_count": null,
            "_view_module": "@jupyter-widgets/base",
            "_view_module_version": "1.2.0",
            "_view_name": "StyleView",
            "button_color": null,
            "font_weight": ""
          }
        },
        "c4d057dbaec64823b5784705b04982bb": {
          "model_module": "@jupyter-widgets/base",
          "model_module_version": "1.2.0",
          "model_name": "LayoutModel",
          "state": {
            "_model_module": "@jupyter-widgets/base",
            "_model_module_version": "1.2.0",
            "_model_name": "LayoutModel",
            "_view_count": null,
            "_view_module": "@jupyter-widgets/base",
            "_view_module_version": "1.2.0",
            "_view_name": "LayoutView",
            "align_content": null,
            "align_items": null,
            "align_self": null,
            "border": null,
            "bottom": null,
            "display": null,
            "flex": null,
            "flex_flow": null,
            "grid_area": null,
            "grid_auto_columns": null,
            "grid_auto_flow": null,
            "grid_auto_rows": null,
            "grid_column": null,
            "grid_gap": null,
            "grid_row": null,
            "grid_template_areas": null,
            "grid_template_columns": null,
            "grid_template_rows": null,
            "height": null,
            "justify_content": null,
            "justify_items": null,
            "left": null,
            "margin": null,
            "max_height": null,
            "max_width": null,
            "min_height": null,
            "min_width": null,
            "object_fit": null,
            "object_position": null,
            "order": null,
            "overflow": null,
            "overflow_x": null,
            "overflow_y": null,
            "padding": null,
            "right": null,
            "top": null,
            "visibility": null,
            "width": null
          }
        },
        "c7adb5e0d4e949d9add35abed9095f00": {
          "model_module": "@jupyter-widgets/controls",
          "model_module_version": "1.5.0",
          "model_name": "ButtonModel",
          "state": {
            "_dom_classes": [],
            "_model_module": "@jupyter-widgets/controls",
            "_model_module_version": "1.5.0",
            "_model_name": "ButtonModel",
            "_view_count": null,
            "_view_module": "@jupyter-widgets/controls",
            "_view_module_version": "1.5.0",
            "_view_name": "ButtonView",
            "button_style": "info",
            "description": "Summarize",
            "disabled": false,
            "icon": "file-alt",
            "layout": "IPY_MODEL_2a7cedc2105b475b983a21f1bb1f7a33",
            "style": "IPY_MODEL_87555bfb3d6e45eb8300c76300593b04",
            "tooltip": "Click to summarize"
          }
        },
        "d672343bf0ab493cafa62f992ca89744": {
          "model_module": "@jupyter-widgets/controls",
          "model_module_version": "1.5.0",
          "model_name": "ButtonModel",
          "state": {
            "_dom_classes": [],
            "_model_module": "@jupyter-widgets/controls",
            "_model_module_version": "1.5.0",
            "_model_name": "ButtonModel",
            "_view_count": null,
            "_view_module": "@jupyter-widgets/controls",
            "_view_module_version": "1.5.0",
            "_view_name": "ButtonView",
            "button_style": "info",
            "description": "Summarize (Transformers)",
            "disabled": false,
            "icon": "file-alt",
            "layout": "IPY_MODEL_d7a7335678c0409c830c3e8f98e0f3f6",
            "style": "IPY_MODEL_8e6a3817e55947d1947daa9b714d1f2f",
            "tooltip": "Click to summarize using Transformers"
          }
        },
        "d7a7335678c0409c830c3e8f98e0f3f6": {
          "model_module": "@jupyter-widgets/base",
          "model_module_version": "1.2.0",
          "model_name": "LayoutModel",
          "state": {
            "_model_module": "@jupyter-widgets/base",
            "_model_module_version": "1.2.0",
            "_model_name": "LayoutModel",
            "_view_count": null,
            "_view_module": "@jupyter-widgets/base",
            "_view_module_version": "1.2.0",
            "_view_name": "LayoutView",
            "align_content": null,
            "align_items": null,
            "align_self": null,
            "border": null,
            "bottom": null,
            "display": null,
            "flex": null,
            "flex_flow": null,
            "grid_area": null,
            "grid_auto_columns": null,
            "grid_auto_flow": null,
            "grid_auto_rows": null,
            "grid_column": null,
            "grid_gap": null,
            "grid_row": null,
            "grid_template_areas": null,
            "grid_template_columns": null,
            "grid_template_rows": null,
            "height": null,
            "justify_content": null,
            "justify_items": null,
            "left": null,
            "margin": null,
            "max_height": null,
            "max_width": null,
            "min_height": null,
            "min_width": null,
            "object_fit": null,
            "object_position": null,
            "order": null,
            "overflow": null,
            "overflow_x": null,
            "overflow_y": null,
            "padding": null,
            "right": null,
            "top": null,
            "visibility": null,
            "width": null
          }
        },
        "e8adbe72aa6046e2ba97f6c35c7665d9": {
          "model_module": "@jupyter-widgets/controls",
          "model_module_version": "1.5.0",
          "model_name": "TextareaModel",
          "state": {
            "_dom_classes": [],
            "_model_module": "@jupyter-widgets/controls",
            "_model_module_version": "1.5.0",
            "_model_name": "TextareaModel",
            "_view_count": null,
            "_view_module": "@jupyter-widgets/controls",
            "_view_module_version": "1.5.0",
            "_view_name": "TextareaView",
            "continuous_update": true,
            "description": "Text:",
            "description_tooltip": null,
            "disabled": false,
            "layout": "IPY_MODEL_484d19928ff044f19804a33828776f41",
            "placeholder": "Enter text to summarize",
            "rows": null,
            "style": "IPY_MODEL_700ce48b26774a4087fe63521761b46a",
            "value": "In a world often dominated by negativity, it's important to remember the power of kindness and compassion. Small acts of kindness have the ability to brighten someone's day, uplift spirits, and create a ripple effect of positivity that can spread far and wide. Whether it's a smile to a stranger, a helping hand to a friend in need, or a thoughtful gesture to a colleague, every act of kindness has the potential to make a difference in someone's life.Beyond individual actions, there is also immense power in collective efforts to create positive change. When communities come together to support one another, incredible things can happen. From grassroots initiatives to global movements, people are uniting to tackle pressing social and environmental issues, driving meaningful progress and inspiring hope for a better future.It's also important to recognize the strength that lies within each and every one of us. We all have the ability to make a positive impact, no matter how small our actions may seem. By tapping into our innate compassion and empathy, we can cultivate a culture of kindness and empathy that enriches our lives and those around us.So let's embrace the power of kindness, and strive to make the world a better place one small act at a time. Together, we can create a brighter, more compassionate future for all."
          }
        },
        "e9073d395f414b02a0357fb52b4eefac": {
          "model_module": "@jupyter-widgets/base",
          "model_module_version": "1.2.0",
          "model_name": "LayoutModel",
          "state": {
            "_model_module": "@jupyter-widgets/base",
            "_model_module_version": "1.2.0",
            "_model_name": "LayoutModel",
            "_view_count": null,
            "_view_module": "@jupyter-widgets/base",
            "_view_module_version": "1.2.0",
            "_view_name": "LayoutView",
            "align_content": null,
            "align_items": null,
            "align_self": null,
            "border": null,
            "bottom": null,
            "display": null,
            "flex": null,
            "flex_flow": null,
            "grid_area": null,
            "grid_auto_columns": null,
            "grid_auto_flow": null,
            "grid_auto_rows": null,
            "grid_column": null,
            "grid_gap": null,
            "grid_row": null,
            "grid_template_areas": null,
            "grid_template_columns": null,
            "grid_template_rows": null,
            "height": null,
            "justify_content": null,
            "justify_items": null,
            "left": null,
            "margin": null,
            "max_height": null,
            "max_width": null,
            "min_height": null,
            "min_width": null,
            "object_fit": null,
            "object_position": null,
            "order": null,
            "overflow": null,
            "overflow_x": null,
            "overflow_y": null,
            "padding": null,
            "right": null,
            "top": null,
            "visibility": null,
            "width": null
          }
        },
        "f82d16538fce471ebc5e1caedd07a5ef": {
          "model_module": "@jupyter-widgets/output",
          "model_module_version": "1.0.0",
          "model_name": "OutputModel",
          "state": {
            "_dom_classes": [],
            "_model_module": "@jupyter-widgets/output",
            "_model_module_version": "1.0.0",
            "_model_name": "OutputModel",
            "_view_count": null,
            "_view_module": "@jupyter-widgets/output",
            "_view_module_version": "1.0.0",
            "_view_name": "OutputView",
            "layout": "IPY_MODEL_28332fb29a9c4c108a8cd2eb9b73ee12",
            "msg_id": "",
            "outputs": [
              {
                "name": "stderr",
                "output_type": "stream",
                "text": [
                  "Both `max_new_tokens` (=256) and `max_length`(=100) seem to have been set. `max_new_tokens` will take precedence. Please refer to the documentation for more information. (https://huggingface.co/docs/transformers/main/en/main_classes/text_generation)\n"
                ]
              },
              {
                "name": "stdout",
                "output_type": "stream",
                "text": [
                  "Summary:\n",
                  "small acts of kindness can brighten someone's day, uplift spirits, and create a ripple effect of positivity . when communities come together to support one another, incredible things can happen . we all have the ability to make a positive impact, no matter how small our actions may seem .\n"
                ]
              }
            ]
          }
        }
      }
    }
  },
  "nbformat": 4,
  "nbformat_minor": 5
}
